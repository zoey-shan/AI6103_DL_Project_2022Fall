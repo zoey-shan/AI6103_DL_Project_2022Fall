{
 "cells": [
  {
   "cell_type": "code",
   "execution_count": 1,
   "metadata": {},
   "outputs": [],
   "source": [
    "import torch\n",
    "import torch.nn as nn"
   ]
  },
  {
   "cell_type": "code",
   "execution_count": 2,
   "metadata": {},
   "outputs": [],
   "source": [
    "# pool of square window of size=3, stride=2\n",
    "m = nn.MaxPool2d(3, stride=2)\n",
    "# pool of non-square window\n",
    "m = nn.MaxPool2d((3, 2), stride=(2, 1))\n",
    "input = torch.randn(20, 16, 50, 32)\n",
    "output = m(input)\n"
   ]
  },
  {
   "cell_type": "code",
   "execution_count": 4,
   "metadata": {},
   "outputs": [
    {
     "data": {
      "text/plain": [
       "torch.Size([20, 16, 24, 31])"
      ]
     },
     "execution_count": 4,
     "metadata": {},
     "output_type": "execute_result"
    }
   ],
   "source": [
    "output.shape"
   ]
  },
  {
   "cell_type": "code",
   "execution_count": 6,
   "metadata": {},
   "outputs": [],
   "source": [
    "from unet.unet_parts import *"
   ]
  },
  {
   "cell_type": "code",
   "execution_count": 14,
   "metadata": {},
   "outputs": [],
   "source": [
    "m = nn.MaxPool2d(2)"
   ]
  },
  {
   "cell_type": "code",
   "execution_count": 15,
   "metadata": {},
   "outputs": [
    {
     "data": {
      "text/plain": [
       "torch.Size([32, 1, 286, 286])"
      ]
     },
     "execution_count": 15,
     "metadata": {},
     "output_type": "execute_result"
    }
   ],
   "source": [
    "m(torch.rand(32,1,572,572)).shape"
   ]
  },
  {
   "cell_type": "code",
   "execution_count": 19,
   "metadata": {},
   "outputs": [
    {
     "data": {
      "text/plain": [
       "0"
      ]
     },
     "execution_count": 19,
     "metadata": {},
     "output_type": "execute_result"
    }
   ],
   "source": [
    "m.padding"
   ]
  },
  {
   "cell_type": "code",
   "execution_count": 123,
   "metadata": {},
   "outputs": [],
   "source": [
    "n = nn.Conv2d(1,2,2)"
   ]
  },
  {
   "cell_type": "code",
   "execution_count": 25,
   "metadata": {},
   "outputs": [],
   "source": [
    "x = list(n.parameters())"
   ]
  },
  {
   "cell_type": "code",
   "execution_count": 28,
   "metadata": {},
   "outputs": [],
   "source": [
    "y = x[0]"
   ]
  },
  {
   "cell_type": "code",
   "execution_count": 29,
   "metadata": {},
   "outputs": [
    {
     "data": {
      "text/plain": [
       "torch.Size([2, 1, 2, 2])"
      ]
     },
     "execution_count": 29,
     "metadata": {},
     "output_type": "execute_result"
    }
   ],
   "source": [
    "y.shape"
   ]
  },
  {
   "cell_type": "code",
   "execution_count": 132,
   "metadata": {},
   "outputs": [],
   "source": [
    "t = torch.rand(1,568,568,requires_grad=True)"
   ]
  },
  {
   "cell_type": "code",
   "execution_count": 133,
   "metadata": {},
   "outputs": [],
   "source": [
    "yt = n(t)"
   ]
  },
  {
   "cell_type": "code",
   "execution_count": 134,
   "metadata": {},
   "outputs": [],
   "source": [
    "l = torch.sum(yt)"
   ]
  },
  {
   "cell_type": "code",
   "execution_count": 135,
   "metadata": {},
   "outputs": [],
   "source": [
    "l.backward()"
   ]
  },
  {
   "cell_type": "code",
   "execution_count": 136,
   "metadata": {},
   "outputs": [
    {
     "data": {
      "text/plain": [
       "tensor([[[-0.4872, -0.5021, -0.5021,  ..., -0.5021, -0.5021, -0.0149],\n",
       "         [-0.3476, -0.7163, -0.7163,  ..., -0.7163, -0.7163, -0.3688],\n",
       "         [-0.3476, -0.7163, -0.7163,  ..., -0.7163, -0.7163, -0.3688],\n",
       "         ...,\n",
       "         [-0.3476, -0.7163, -0.7163,  ..., -0.7163, -0.7163, -0.3688],\n",
       "         [-0.3476, -0.7163, -0.7163,  ..., -0.7163, -0.7163, -0.3688],\n",
       "         [ 0.1396, -0.2142, -0.2142,  ..., -0.2142, -0.2142, -0.3539]]])"
      ]
     },
     "execution_count": 136,
     "metadata": {},
     "output_type": "execute_result"
    }
   ],
   "source": [
    "t.grad"
   ]
  },
  {
   "cell_type": "code",
   "execution_count": 66,
   "metadata": {},
   "outputs": [],
   "source": [
    "p = torch.rand(1,3,3)"
   ]
  },
  {
   "cell_type": "code",
   "execution_count": 67,
   "metadata": {},
   "outputs": [],
   "source": [
    "norm_weights = torch.zeros(t.shape)\n"
   ]
  },
  {
   "cell_type": "code",
   "execution_count": 68,
   "metadata": {},
   "outputs": [],
   "source": [
    "padding = 0"
   ]
  },
  {
   "cell_type": "code",
   "execution_count": 70,
   "metadata": {},
   "outputs": [],
   "source": [
    "kernel_size = 3"
   ]
  },
  {
   "cell_type": "code",
   "execution_count": 71,
   "metadata": {},
   "outputs": [],
   "source": [
    "for r in range(p.shape[-2]):\n",
    "    for c in range(p.shape[-1]):\n",
    "        norm_weights[max(0,r-padding):t.shape[-2]-(kernel_size-1)+padding+r,max(0,c-padding):t.shape[-1]-(kernel_size-1)+padding+c] += p[0,r,c]**2"
   ]
  },
  {
   "cell_type": "code",
   "execution_count": 72,
   "metadata": {},
   "outputs": [
    {
     "data": {
      "text/plain": [
       "tensor([[0.3997, 0.4012, 0.9858,  ..., 0.9858, 0.5860, 0.5845],\n",
       "        [0.8605, 0.8693, 1.5417,  ..., 1.5417, 0.6812, 0.6724],\n",
       "        [1.4966, 2.3680, 3.7157,  ..., 3.7157, 2.2191, 1.3477],\n",
       "        ...,\n",
       "        [1.4966, 2.3680, 3.7157,  ..., 3.7157, 2.2191, 1.3477],\n",
       "        [1.0969, 1.9668, 2.7299,  ..., 2.7299, 1.6330, 0.7632],\n",
       "        [0.6361, 1.4987, 2.1739,  ..., 2.1739, 1.5379, 0.6753]])"
      ]
     },
     "execution_count": 72,
     "metadata": {},
     "output_type": "execute_result"
    }
   ],
   "source": [
    "norm_weights"
   ]
  },
  {
   "cell_type": "code",
   "execution_count": 73,
   "metadata": {},
   "outputs": [
    {
     "data": {
      "text/plain": [
       "tensor([[[0.6322, 0.0387, 0.7646],\n",
       "         [0.6788, 0.0853, 0.2965],\n",
       "         [0.7976, 0.9288, 0.8217]]])"
      ]
     },
     "execution_count": 73,
     "metadata": {},
     "output_type": "execute_result"
    }
   ],
   "source": [
    "p"
   ]
  },
  {
   "cell_type": "code",
   "execution_count": 74,
   "metadata": {},
   "outputs": [
    {
     "data": {
      "text/plain": [
       "tensor([[[0.3997, 0.0015, 0.5845],\n",
       "         [0.4608, 0.0073, 0.0879],\n",
       "         [0.6361, 0.8626, 0.6753]]])"
      ]
     },
     "execution_count": 74,
     "metadata": {},
     "output_type": "execute_result"
    }
   ],
   "source": [
    "p**2"
   ]
  },
  {
   "cell_type": "code",
   "execution_count": 110,
   "metadata": {},
   "outputs": [],
   "source": [
    "p2 = p**2"
   ]
  },
  {
   "cell_type": "code",
   "execution_count": 111,
   "metadata": {},
   "outputs": [],
   "source": [
    "p3 = p**2"
   ]
  },
  {
   "cell_type": "code",
   "execution_count": 112,
   "metadata": {},
   "outputs": [],
   "source": [
    "for r in range(p2.shape[-2]-1):\n",
    "    p2[:,r+1:,:] += p3[:,r,:]\n"
   ]
  },
  {
   "cell_type": "code",
   "execution_count": 113,
   "metadata": {},
   "outputs": [
    {
     "data": {
      "text/plain": [
       "tensor([[[0.3997, 0.0015, 0.5845],\n",
       "         [0.8605, 0.0088, 0.6724],\n",
       "         [1.4966, 0.8714, 1.3477]]])"
      ]
     },
     "execution_count": 113,
     "metadata": {},
     "output_type": "execute_result"
    }
   ],
   "source": [
    "p2"
   ]
  },
  {
   "cell_type": "code",
   "execution_count": 114,
   "metadata": {},
   "outputs": [
    {
     "name": "stdout",
     "output_type": "stream",
     "text": [
      "tensor([[[0.3997],\n",
      "         [0.8605],\n",
      "         [1.4966]]])\n",
      "tensor([[[0.4012],\n",
      "         [0.4696],\n",
      "         [1.5075]]])\n"
     ]
    }
   ],
   "source": [
    "for c in range(p2.shape[-1]-1):\n",
    "    print(p2[:, :, c].unsqueeze(-1))\n",
    "    p2[:,:,c+1:] += p3[:,:,c].unsqueeze(-1)"
   ]
  },
  {
   "cell_type": "code",
   "execution_count": 115,
   "metadata": {},
   "outputs": [
    {
     "data": {
      "text/plain": [
       "tensor([[[0.3997, 0.4012, 0.9858],\n",
       "         [0.8605, 0.4696, 1.1405],\n",
       "         [1.4966, 1.5075, 2.8464]]])"
      ]
     },
     "execution_count": 115,
     "metadata": {},
     "output_type": "execute_result"
    }
   ],
   "source": [
    "p2"
   ]
  },
  {
   "cell_type": "code",
   "execution_count": 118,
   "metadata": {},
   "outputs": [
    {
     "data": {
      "text/plain": [
       "2"
      ]
     },
     "execution_count": 118,
     "metadata": {},
     "output_type": "execute_result"
    }
   ],
   "source": [
    "len(list(n.parameters()))"
   ]
  },
  {
   "cell_type": "code",
   "execution_count": 121,
   "metadata": {},
   "outputs": [
    {
     "data": {
      "text/plain": [
       "torch.Size([128])"
      ]
     },
     "execution_count": 121,
     "metadata": {},
     "output_type": "execute_result"
    }
   ],
   "source": [
    "x[1].shape"
   ]
  },
  {
   "cell_type": "code",
   "execution_count": 122,
   "metadata": {},
   "outputs": [
    {
     "data": {
      "text/plain": [
       "[Parameter containing:\n",
       " tensor([[[[-1.4838e-02, -1.6087e-03, -3.8317e-02],\n",
       "           [ 5.7875e-03, -1.1970e-02, -3.3199e-02],\n",
       "           [-9.5730e-03,  1.7141e-02, -1.0084e-02]],\n",
       " \n",
       "          [[-9.6628e-03,  2.7475e-02,  3.2139e-02],\n",
       "           [-1.7199e-02,  1.5689e-02,  3.5995e-02],\n",
       "           [ 2.0935e-02,  6.3503e-03,  7.2908e-05]],\n",
       " \n",
       "          [[ 1.2676e-02, -1.5422e-02,  1.5394e-02],\n",
       "           [-7.9797e-03, -3.1373e-04,  3.5750e-02],\n",
       "           [-2.4574e-02, -1.6500e-02,  1.3587e-02]],\n",
       " \n",
       "          ...,\n",
       " \n",
       "          [[ 2.9406e-02, -2.4247e-02,  2.8160e-02],\n",
       "           [-2.3505e-02,  3.1415e-02, -3.8957e-02],\n",
       "           [ 3.6200e-02, -1.8891e-02,  2.6441e-02]],\n",
       " \n",
       "          [[ 1.6197e-02, -2.2831e-02, -3.1759e-02],\n",
       "           [ 2.9770e-02, -3.2076e-02, -1.1686e-02],\n",
       "           [-9.5670e-03, -9.1462e-03,  2.8900e-02]],\n",
       " \n",
       "          [[-1.4828e-02,  3.4142e-02, -7.9878e-03],\n",
       "           [ 2.9130e-02,  3.2098e-02,  3.5676e-02],\n",
       "           [-2.4853e-02,  3.7711e-02, -2.0446e-02]]],\n",
       " \n",
       " \n",
       "         [[[ 5.3062e-03,  2.8657e-02,  1.9526e-03],\n",
       "           [ 1.7780e-03, -3.5318e-03,  2.0286e-02],\n",
       "           [-6.8369e-03,  1.0183e-02,  1.9954e-02]],\n",
       " \n",
       "          [[ 2.1120e-02,  1.5582e-02, -1.5064e-02],\n",
       "           [-2.6131e-02,  1.2425e-02,  2.7701e-03],\n",
       "           [-2.4785e-03,  8.6611e-03,  2.5380e-02]],\n",
       " \n",
       "          [[ 2.5605e-02, -2.9960e-02,  2.8252e-02],\n",
       "           [-1.5819e-02,  4.0605e-02, -2.8583e-03],\n",
       "           [-1.7776e-02, -1.2508e-02, -3.2749e-02]],\n",
       " \n",
       "          ...,\n",
       " \n",
       "          [[-3.3065e-02, -3.3424e-02,  2.9589e-02],\n",
       "           [ 1.9703e-02,  9.5176e-04, -2.3067e-02],\n",
       "           [-3.8957e-02, -2.4953e-02, -2.4750e-02]],\n",
       " \n",
       "          [[ 3.5375e-02, -4.2052e-03, -2.5353e-02],\n",
       "           [-2.3043e-02, -3.7036e-03,  2.5601e-02],\n",
       "           [ 2.6135e-02, -5.6306e-03, -3.9247e-02]],\n",
       " \n",
       "          [[ 2.3040e-02,  2.4997e-02,  1.4085e-02],\n",
       "           [ 1.3803e-02,  1.9707e-02,  3.5297e-02],\n",
       "           [ 3.9846e-05, -1.0795e-02, -4.1592e-02]]],\n",
       " \n",
       " \n",
       "         [[[ 1.7406e-02,  3.8334e-02,  2.4378e-02],\n",
       "           [ 2.6777e-02,  3.1974e-05, -2.0921e-02],\n",
       "           [-3.1932e-02,  7.3581e-03, -5.5457e-03]],\n",
       " \n",
       "          [[-3.9265e-02, -2.8709e-02, -1.2782e-02],\n",
       "           [ 1.1134e-02, -3.2106e-02, -1.4246e-02],\n",
       "           [ 3.4500e-03, -2.3724e-02,  2.8069e-02]],\n",
       " \n",
       "          [[ 1.3048e-02,  2.3509e-02,  2.6736e-02],\n",
       "           [-3.1657e-03,  4.3045e-03,  2.9686e-02],\n",
       "           [-3.8005e-02, -1.0560e-02, -1.0665e-02]],\n",
       " \n",
       "          ...,\n",
       " \n",
       "          [[-3.9324e-02, -3.7019e-02, -2.4192e-02],\n",
       "           [ 2.4677e-02, -1.3871e-02, -1.0429e-02],\n",
       "           [-1.3082e-02,  2.6561e-02,  3.8912e-02]],\n",
       " \n",
       "          [[-4.1597e-02,  3.1131e-02,  7.3292e-03],\n",
       "           [-3.3941e-02, -3.2200e-02, -2.0321e-02],\n",
       "           [-8.2717e-03, -2.4333e-02,  1.6361e-02]],\n",
       " \n",
       "          [[-2.2357e-02, -1.8368e-02,  6.2022e-04],\n",
       "           [-1.7385e-02,  3.4721e-02,  1.6123e-02],\n",
       "           [-4.4793e-03,  1.1847e-02, -3.3076e-02]]],\n",
       " \n",
       " \n",
       "         ...,\n",
       " \n",
       " \n",
       "         [[[-1.1520e-02,  2.1287e-03, -6.1857e-04],\n",
       "           [-2.0452e-02,  4.1085e-02, -4.0425e-02],\n",
       "           [-3.7231e-02, -4.6468e-03, -1.2361e-02]],\n",
       " \n",
       "          [[-2.9089e-02,  3.9408e-03,  4.1313e-02],\n",
       "           [ 6.4368e-03, -5.9443e-03, -3.1099e-02],\n",
       "           [-3.4055e-02,  2.3609e-02,  1.4783e-02]],\n",
       " \n",
       "          [[ 2.9264e-02, -1.9924e-02, -8.8427e-03],\n",
       "           [-2.8411e-02, -1.4535e-02,  2.4026e-02],\n",
       "           [-3.2045e-02, -4.1461e-02,  3.4824e-03]],\n",
       " \n",
       "          ...,\n",
       " \n",
       "          [[-1.4454e-02,  2.7760e-03,  1.1575e-02],\n",
       "           [-2.9646e-03,  1.3764e-02,  7.8371e-03],\n",
       "           [-3.8095e-03,  2.0738e-02,  1.4999e-02]],\n",
       " \n",
       "          [[-2.8491e-02, -2.5717e-03,  3.7266e-03],\n",
       "           [-2.8982e-03, -1.7922e-02,  2.7319e-02],\n",
       "           [-4.5233e-03, -2.2086e-02, -1.1186e-02]],\n",
       " \n",
       "          [[ 3.1026e-02, -1.8716e-02,  8.4583e-03],\n",
       "           [ 2.5449e-03,  1.8668e-02,  1.6738e-02],\n",
       "           [-1.7151e-02, -3.8670e-02,  3.9534e-02]]],\n",
       " \n",
       " \n",
       "         [[[ 2.3415e-02, -2.5756e-02, -3.5155e-02],\n",
       "           [-2.5094e-04,  9.8858e-03, -3.5016e-02],\n",
       "           [-3.0477e-02,  3.1052e-02,  3.2469e-02]],\n",
       " \n",
       "          [[-1.3606e-02, -2.2719e-02, -6.2611e-03],\n",
       "           [-3.4308e-02, -3.2858e-02,  1.3811e-02],\n",
       "           [-5.1090e-03, -3.1582e-02,  1.5729e-02]],\n",
       " \n",
       "          [[-1.2414e-02, -7.8641e-03, -3.5187e-02],\n",
       "           [ 3.3159e-02,  9.7711e-03,  2.8029e-02],\n",
       "           [ 2.8298e-02, -2.5388e-02, -3.1495e-02]],\n",
       " \n",
       "          ...,\n",
       " \n",
       "          [[-1.3197e-02, -3.2410e-02, -3.8603e-02],\n",
       "           [-1.0235e-02,  3.7955e-02,  2.5548e-02],\n",
       "           [-6.8964e-03, -8.7190e-03,  1.5964e-02]],\n",
       " \n",
       "          [[ 1.8407e-02, -3.1889e-02, -2.9773e-02],\n",
       "           [-2.6323e-02, -3.1279e-03,  3.0628e-02],\n",
       "           [-2.0470e-03,  1.9486e-02,  1.7957e-02]],\n",
       " \n",
       "          [[ 1.1013e-02,  2.3119e-02, -6.2753e-04],\n",
       "           [ 3.7177e-02,  9.4977e-03,  2.4493e-02],\n",
       "           [-3.6536e-02,  3.6585e-03, -3.0419e-02]]],\n",
       " \n",
       " \n",
       "         [[[ 1.9398e-02, -2.5665e-02,  1.0692e-02],\n",
       "           [ 2.2398e-02, -2.2845e-02,  3.2516e-02],\n",
       "           [ 2.1489e-02, -2.4357e-02,  1.5644e-02]],\n",
       " \n",
       "          [[ 2.4230e-02, -7.8555e-03,  3.6106e-02],\n",
       "           [ 1.3762e-02, -2.4879e-02, -1.4630e-02],\n",
       "           [-2.5024e-02,  2.5935e-02, -1.3171e-02]],\n",
       " \n",
       "          [[ 2.2143e-02,  1.3748e-02, -2.0353e-03],\n",
       "           [-2.5374e-03, -2.7863e-02,  4.9721e-03],\n",
       "           [ 1.0349e-02, -2.1135e-02,  1.7974e-02]],\n",
       " \n",
       "          ...,\n",
       " \n",
       "          [[ 1.2862e-03, -3.1303e-02, -1.4205e-02],\n",
       "           [ 3.8415e-03, -1.5023e-02,  2.4286e-02],\n",
       "           [ 1.5584e-02, -1.2845e-02, -2.5259e-02]],\n",
       " \n",
       "          [[-3.3142e-02, -1.2209e-02, -3.3578e-02],\n",
       "           [ 4.0921e-02,  1.6567e-02, -3.8060e-02],\n",
       "           [ 3.7549e-02, -3.6492e-02,  3.5839e-02]],\n",
       " \n",
       "          [[ 2.4704e-02,  1.8494e-02, -3.4862e-02],\n",
       "           [-7.4936e-03,  1.8045e-02,  1.9663e-02],\n",
       "           [ 2.9472e-02, -2.0023e-02,  2.9904e-02]]]], requires_grad=True),\n",
       " Parameter containing:\n",
       " tensor([-0.0068,  0.0297,  0.0230, -0.0092,  0.0070,  0.0037,  0.0363, -0.0220,\n",
       "         -0.0088,  0.0382,  0.0031,  0.0178,  0.0391,  0.0107,  0.0035,  0.0098,\n",
       "          0.0027, -0.0399,  0.0051, -0.0052,  0.0063, -0.0147, -0.0108,  0.0228,\n",
       "         -0.0018,  0.0208, -0.0220, -0.0025, -0.0147,  0.0048, -0.0402,  0.0399,\n",
       "          0.0128, -0.0210, -0.0232,  0.0207, -0.0363, -0.0405,  0.0016, -0.0391,\n",
       "          0.0308, -0.0339, -0.0086,  0.0043, -0.0099, -0.0066, -0.0121, -0.0146,\n",
       "         -0.0395,  0.0030, -0.0383,  0.0269,  0.0277, -0.0020,  0.0048, -0.0053,\n",
       "         -0.0143,  0.0149,  0.0367,  0.0160,  0.0391,  0.0323,  0.0264, -0.0031,\n",
       "         -0.0161, -0.0224, -0.0227,  0.0161,  0.0137,  0.0023, -0.0173,  0.0154,\n",
       "          0.0280,  0.0054,  0.0155, -0.0056, -0.0240,  0.0298,  0.0004,  0.0311,\n",
       "          0.0179,  0.0257, -0.0023, -0.0404,  0.0215,  0.0087,  0.0388,  0.0182,\n",
       "         -0.0265,  0.0014,  0.0277, -0.0016,  0.0341,  0.0395,  0.0410, -0.0282,\n",
       "         -0.0182,  0.0193,  0.0354, -0.0363, -0.0304,  0.0191,  0.0240, -0.0090,\n",
       "         -0.0351, -0.0308,  0.0023, -0.0035,  0.0111, -0.0015,  0.0006,  0.0045,\n",
       "          0.0104,  0.0156,  0.0386,  0.0022, -0.0094, -0.0308, -0.0348, -0.0177,\n",
       "         -0.0095,  0.0357, -0.0035, -0.0030, -0.0380,  0.0307, -0.0186,  0.0245],\n",
       "        requires_grad=True)]"
      ]
     },
     "execution_count": 122,
     "metadata": {},
     "output_type": "execute_result"
    }
   ],
   "source": [
    "n"
   ]
  }
 ],
 "metadata": {
  "kernelspec": {
   "display_name": "Python 3.9.12 ('base')",
   "language": "python",
   "name": "python3"
  },
  "language_info": {
   "codemirror_mode": {
    "name": "ipython",
    "version": 3
   },
   "file_extension": ".py",
   "mimetype": "text/x-python",
   "name": "python",
   "nbconvert_exporter": "python",
   "pygments_lexer": "ipython3",
   "version": "3.9.12"
  },
  "orig_nbformat": 4,
  "vscode": {
   "interpreter": {
    "hash": "b8fcb1ab44e774d66dc02daa372e6eb5476e5715128d8c18d4fc016d50995e4b"
   }
  }
 },
 "nbformat": 4,
 "nbformat_minor": 2
}
